{
 "cells": [
  {
   "cell_type": "code",
   "execution_count": 1,
   "metadata": {},
   "outputs": [],
   "source": [
    "from pathlib import Path\n",
    "from openpyxl import Workbook, load_workbook\n",
    "\n",
    "i = 1\n",
    "\n",
    "# Directory of Excel-files, that you want to anonymize\n",
    "path = Path(\"Enter directory here\")\n",
    "for input in list(path.glob(\"*.xlsx*\")): # rglob if directory includes subfolders and you want to access those aswell\n",
    "    wb = load_workbook(filename=input)\n",
    "    ws = wb.active\n",
    "\n",
    "    # Cells which include personal data and the values they're replaced with\n",
    "    ws[\"B5\"] = f\"Benutzerkennung Anonym {i}\"\n",
    "    ws[\"B6\"] = f\"Nachname Anonym {i}\"\n",
    "    ws[\"B7\"] = f\"Vorname Anonym {i}\"\n",
    "    ws[\"B8\"] = f\"Geburtsdatum Anonym {i}\"\n",
    "    ws[\"B10\"].hyperlink = None\n",
    "    ws[\"B10\"] = f\"E-Mail Anonym {i}\"\n",
    "\n",
    "    i += 1\n",
    "    # Saving the changes in workbook \n",
    "    wb.save(input)\n"
   ]
  }
 ],
 "metadata": {
  "kernelspec": {
   "display_name": "Python 3.9.7 ('base')",
   "language": "python",
   "name": "python3"
  },
  "language_info": {
   "codemirror_mode": {
    "name": "ipython",
    "version": 3
   },
   "file_extension": ".py",
   "mimetype": "text/x-python",
   "name": "python",
   "nbconvert_exporter": "python",
   "pygments_lexer": "ipython3",
   "version": "3.9.7"
  },
  "orig_nbformat": 4,
  "vscode": {
   "interpreter": {
    "hash": "b09ec625f77bf4fd762565a912b97636504ad6ec901eb2d0f4cf5a7de23e1ee5"
   }
  }
 },
 "nbformat": 4,
 "nbformat_minor": 2
}
